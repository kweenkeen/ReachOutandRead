{
  "nbformat": 4,
  "nbformat_minor": 0,
  "metadata": {
    "colab": {
      "name": "ROR_IHS_Biannual_Update.ipynb",
      "provenance": [],
      "authorship_tag": "ABX9TyNBZg7vuFTWU0VJJP72dkwA",
      "include_colab_link": true
    },
    "kernelspec": {
      "name": "python3",
      "display_name": "Python 3"
    },
    "language_info": {
      "name": "python"
    }
  },
  "cells": [
    {
      "cell_type": "markdown",
      "metadata": {
        "id": "view-in-github",
        "colab_type": "text"
      },
      "source": [
        "<a href=\"https://colab.research.google.com/github/kweenkeen/ReachOutandRead/blob/main/ROR_IHS_Biannual_Update.ipynb\" target=\"_parent\"><img src=\"https://colab.research.google.com/assets/colab-badge.svg\" alt=\"Open In Colab\"/></a>"
      ]
    },
    {
      "cell_type": "code",
      "execution_count": 1,
      "metadata": {
        "colab": {
          "resources": {
            "http://localhost:8080/nbextensions/google.colab/files.js": {
              "data": "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",
              "ok": true,
              "headers": [
                [
                  "content-type",
                  "application/javascript"
                ]
              ],
              "status": 200,
              "status_text": "OK"
            }
          },
          "base_uri": "https://localhost:8080/",
          "height": 204
        },
        "id": "59Dcl_Yd2S7M",
        "outputId": "4ba1ef1c-b7a7-438c-ff74-b3a38ee70466"
      },
      "outputs": [
        {
          "output_type": "stream",
          "name": "stdout",
          "text": [
            "Collecting xlsxwriter\n",
            "  Downloading XlsxWriter-3.0.3-py3-none-any.whl (149 kB)\n",
            "\u001b[?25l\r\u001b[K     |██▏                             | 10 kB 23.1 MB/s eta 0:00:01\r\u001b[K     |████▍                           | 20 kB 10.4 MB/s eta 0:00:01\r\u001b[K     |██████▌                         | 30 kB 6.9 MB/s eta 0:00:01\r\u001b[K     |████████▊                       | 40 kB 6.3 MB/s eta 0:00:01\r\u001b[K     |███████████                     | 51 kB 3.3 MB/s eta 0:00:01\r\u001b[K     |█████████████                   | 61 kB 3.8 MB/s eta 0:00:01\r\u001b[K     |███████████████▎                | 71 kB 4.1 MB/s eta 0:00:01\r\u001b[K     |█████████████████▌              | 81 kB 4.5 MB/s eta 0:00:01\r\u001b[K     |███████████████████▋            | 92 kB 5.0 MB/s eta 0:00:01\r\u001b[K     |█████████████████████▉          | 102 kB 4.0 MB/s eta 0:00:01\r\u001b[K     |████████████████████████        | 112 kB 4.0 MB/s eta 0:00:01\r\u001b[K     |██████████████████████████▏     | 122 kB 4.0 MB/s eta 0:00:01\r\u001b[K     |████████████████████████████▍   | 133 kB 4.0 MB/s eta 0:00:01\r\u001b[K     |██████████████████████████████▋ | 143 kB 4.0 MB/s eta 0:00:01\r\u001b[K     |████████████████████████████████| 149 kB 4.0 MB/s \n",
            "\u001b[?25hInstalling collected packages: xlsxwriter\n",
            "Successfully installed xlsxwriter-3.0.3\n",
            "Requirement already satisfied: openpyxl in /usr/local/lib/python3.7/dist-packages (3.0.9)\n",
            "Requirement already satisfied: et-xmlfile in /usr/local/lib/python3.7/dist-packages (from openpyxl) (1.1.0)\n"
          ]
        },
        {
          "output_type": "display_data",
          "data": {
            "text/plain": [
              "<IPython.core.display.HTML object>"
            ],
            "text/html": [
              "\n",
              "     <input type=\"file\" id=\"files-88862e76-9d06-43e7-9f26-7479a9c5f87b\" name=\"files[]\" multiple disabled\n",
              "        style=\"border:none\" />\n",
              "     <output id=\"result-88862e76-9d06-43e7-9f26-7479a9c5f87b\">\n",
              "      Upload widget is only available when the cell has been executed in the\n",
              "      current browser session. Please rerun this cell to enable.\n",
              "      </output>\n",
              "      <script src=\"/nbextensions/google.colab/files.js\"></script> "
            ]
          },
          "metadata": {}
        },
        {
          "output_type": "stream",
          "name": "stdout",
          "text": [
            "Saving MyROR Site Data Report 2022-03-11.xlsx to MyROR Site Data Report 2022-03-11.xlsx\n"
          ]
        }
      ],
      "source": [
        "!pip install xlsxwriter\n",
        "!pip install openpyxl\n",
        "\n",
        "import pandas as pd\n",
        "from google.colab import files\n",
        "from datetime import date\n",
        "from datetime import datetime\n",
        "\n",
        "# Make sure to upload site data report for TWO REPORTING PERIODS!\n",
        "\n",
        "site_data_report = files.upload()\n",
        "site_data_file = next(iter(site_data_report))\n",
        "df = pd.read_excel(site_data_file, converters={'Site ID': str})"
      ]
    },
    {
      "cell_type": "code",
      "source": [
        "df = df.set_index('Site ID')"
      ],
      "metadata": {
        "id": "BpRTCx-W6q1z"
      },
      "execution_count": 2,
      "outputs": []
    },
    {
      "cell_type": "code",
      "source": [
        "df = df[['Site Type', 'Site Name', 'Status','Join Date', 'Inactive Date', 'IHS', 'Categories', 'Physical Location: City', 'Physical Location: State', 'Report 1:  Name', 'Report 2:  Name', 'Combined Annual Well-child Visits 0-5 Years', 'Combined Annual Books 0-5 Years']]\n",
        "df = df.rename({'Physical Location: City': 'City', 'Physical Location: State': 'State' , 'Combined Annual Well-child Visits 0-5 Years': 'Visits 0-5 years Annually', 'Combined Annual Books 0-5 Years': 'Books 0-5 Years Annually'}, axis=1)\n",
        "df['Book Distribution Rate'] = (df['Books 0-5 Years Annually'] / df['Visits 0-5 years Annually']) * 100\n",
        "df['Book Distribution Rate'] = df['Book Distribution Rate'].fillna(0)\n",
        "df['Book Distribution Rate'] = df['Book Distribution Rate'].astype(float).round(2)"
      ],
      "metadata": {
        "id": "hATJTwRgokQU"
      },
      "execution_count": 3,
      "outputs": []
    },
    {
      "cell_type": "code",
      "source": [
        "AIAN_list = ['Grant Funded Sites, ROR American Indian/Alaska Native', 'ROR American Indian/Alaska Native', 'ROR American Indian/Alaska Native, Grant Funded Sites', 'ROR American Indian/Alaska Native, Navajo Nation', 'ROR American Indian/Alaska Native, SI: DD']\n",
        "df = df[(df[\"IHS\"]==\"Y\") | (df[\"Categories\"].isin(AIAN_list))]"
      ],
      "metadata": {
        "id": "u-6XyOpQHgRJ"
      },
      "execution_count": 4,
      "outputs": []
    },
    {
      "cell_type": "code",
      "source": [
        "high_level_active = ['Active', 'Active - Non-Reporting', 'Slated for deactivation', 'COVID-19 Freeze'] \n",
        "IHS_AIAN_df = df[df['Status'].isin(high_level_active)]\n",
        "IHS_AIAN_df = IHS_AIAN_df[['Site Type', 'Site Name', 'Status', 'City', 'State', 'Report 1:  Name', 'Report 2:  Name', 'Visits 0-5 years Annually', 'Books 0-5 Years Annually', 'Book Distribution Rate']]\n"
      ],
      "metadata": {
        "id": "MA1PDJnC7F7U"
      },
      "execution_count": 6,
      "outputs": []
    },
    {
      "cell_type": "code",
      "source": [
        "IHS_AIAN_df.head()"
      ],
      "metadata": {
        "colab": {
          "base_uri": "https://localhost:8080/",
          "height": 420
        },
        "id": "isaE-z5HOVzv",
        "outputId": "11403a6e-471e-4b7a-99d0-4b3814b9d394"
      },
      "execution_count": 7,
      "outputs": [
        {
          "output_type": "execute_result",
          "data": {
            "text/plain": [
              "         Site Type                                          Site Name  \\\n",
              "Site ID                                                                 \n",
              "24         Primary  Alaska Native Medical Center / PCC-Pediatric C...   \n",
              "31         Primary        Chinle Comprehensive Health Care Facility /   \n",
              "36         Primary                            Kayenta Health Center /   \n",
              "36.2     Satellite                                Dennehotso Clinic /   \n",
              "51         Primary         Tuba City Regional Health Care Corporation   \n",
              "\n",
              "                         Status        City State  \\\n",
              "Site ID                                             \n",
              "24       Active - Non-Reporting   Anchorage    AK   \n",
              "31                       Active      Chinle    AZ   \n",
              "36                       Active     Kayenta    AZ   \n",
              "36.2                     Active  Dennehotso    AZ   \n",
              "51                       Active   Tuba City    AZ   \n",
              "\n",
              "                      Report 1:  Name            Report 2:  Name  \\\n",
              "Site ID                                                            \n",
              "24       January 2020 Progress Report  July 2020 Progress Report   \n",
              "31       January 2022 Progress Report  July 2019 Progress Report   \n",
              "36       January 2022 Progress Report  July 2021 Progress Report   \n",
              "36.2     January 2022 Progress Report  July 2021 Progress Report   \n",
              "51       January 2022 Progress Report  July 2021 Progress Report   \n",
              "\n",
              "         Visits 0-5 years Annually  Books 0-5 Years Annually  \\\n",
              "Site ID                                                        \n",
              "24                            3610                      2956   \n",
              "31                            2252                      1752   \n",
              "36                             385                       385   \n",
              "36.2                             0                         0   \n",
              "51                            2718                      1651   \n",
              "\n",
              "         Book Distribution Rate  \n",
              "Site ID                          \n",
              "24                        81.88  \n",
              "31                        77.80  \n",
              "36                       100.00  \n",
              "36.2                       0.00  \n",
              "51                        60.74  "
            ],
            "text/html": [
              "\n",
              "  <div id=\"df-06e5cab7-7e9c-46b4-abb0-1692e39e69ea\">\n",
              "    <div class=\"colab-df-container\">\n",
              "      <div>\n",
              "<style scoped>\n",
              "    .dataframe tbody tr th:only-of-type {\n",
              "        vertical-align: middle;\n",
              "    }\n",
              "\n",
              "    .dataframe tbody tr th {\n",
              "        vertical-align: top;\n",
              "    }\n",
              "\n",
              "    .dataframe thead th {\n",
              "        text-align: right;\n",
              "    }\n",
              "</style>\n",
              "<table border=\"1\" class=\"dataframe\">\n",
              "  <thead>\n",
              "    <tr style=\"text-align: right;\">\n",
              "      <th></th>\n",
              "      <th>Site Type</th>\n",
              "      <th>Site Name</th>\n",
              "      <th>Status</th>\n",
              "      <th>City</th>\n",
              "      <th>State</th>\n",
              "      <th>Report 1:  Name</th>\n",
              "      <th>Report 2:  Name</th>\n",
              "      <th>Visits 0-5 years Annually</th>\n",
              "      <th>Books 0-5 Years Annually</th>\n",
              "      <th>Book Distribution Rate</th>\n",
              "    </tr>\n",
              "    <tr>\n",
              "      <th>Site ID</th>\n",
              "      <th></th>\n",
              "      <th></th>\n",
              "      <th></th>\n",
              "      <th></th>\n",
              "      <th></th>\n",
              "      <th></th>\n",
              "      <th></th>\n",
              "      <th></th>\n",
              "      <th></th>\n",
              "      <th></th>\n",
              "    </tr>\n",
              "  </thead>\n",
              "  <tbody>\n",
              "    <tr>\n",
              "      <th>24</th>\n",
              "      <td>Primary</td>\n",
              "      <td>Alaska Native Medical Center / PCC-Pediatric C...</td>\n",
              "      <td>Active - Non-Reporting</td>\n",
              "      <td>Anchorage</td>\n",
              "      <td>AK</td>\n",
              "      <td>January 2020 Progress Report</td>\n",
              "      <td>July 2020 Progress Report</td>\n",
              "      <td>3610</td>\n",
              "      <td>2956</td>\n",
              "      <td>81.88</td>\n",
              "    </tr>\n",
              "    <tr>\n",
              "      <th>31</th>\n",
              "      <td>Primary</td>\n",
              "      <td>Chinle Comprehensive Health Care Facility /</td>\n",
              "      <td>Active</td>\n",
              "      <td>Chinle</td>\n",
              "      <td>AZ</td>\n",
              "      <td>January 2022 Progress Report</td>\n",
              "      <td>July 2019 Progress Report</td>\n",
              "      <td>2252</td>\n",
              "      <td>1752</td>\n",
              "      <td>77.80</td>\n",
              "    </tr>\n",
              "    <tr>\n",
              "      <th>36</th>\n",
              "      <td>Primary</td>\n",
              "      <td>Kayenta Health Center /</td>\n",
              "      <td>Active</td>\n",
              "      <td>Kayenta</td>\n",
              "      <td>AZ</td>\n",
              "      <td>January 2022 Progress Report</td>\n",
              "      <td>July 2021 Progress Report</td>\n",
              "      <td>385</td>\n",
              "      <td>385</td>\n",
              "      <td>100.00</td>\n",
              "    </tr>\n",
              "    <tr>\n",
              "      <th>36.2</th>\n",
              "      <td>Satellite</td>\n",
              "      <td>Dennehotso Clinic /</td>\n",
              "      <td>Active</td>\n",
              "      <td>Dennehotso</td>\n",
              "      <td>AZ</td>\n",
              "      <td>January 2022 Progress Report</td>\n",
              "      <td>July 2021 Progress Report</td>\n",
              "      <td>0</td>\n",
              "      <td>0</td>\n",
              "      <td>0.00</td>\n",
              "    </tr>\n",
              "    <tr>\n",
              "      <th>51</th>\n",
              "      <td>Primary</td>\n",
              "      <td>Tuba City Regional Health Care Corporation</td>\n",
              "      <td>Active</td>\n",
              "      <td>Tuba City</td>\n",
              "      <td>AZ</td>\n",
              "      <td>January 2022 Progress Report</td>\n",
              "      <td>July 2021 Progress Report</td>\n",
              "      <td>2718</td>\n",
              "      <td>1651</td>\n",
              "      <td>60.74</td>\n",
              "    </tr>\n",
              "  </tbody>\n",
              "</table>\n",
              "</div>\n",
              "      <button class=\"colab-df-convert\" onclick=\"convertToInteractive('df-06e5cab7-7e9c-46b4-abb0-1692e39e69ea')\"\n",
              "              title=\"Convert this dataframe to an interactive table.\"\n",
              "              style=\"display:none;\">\n",
              "        \n",
              "  <svg xmlns=\"http://www.w3.org/2000/svg\" height=\"24px\"viewBox=\"0 0 24 24\"\n",
              "       width=\"24px\">\n",
              "    <path d=\"M0 0h24v24H0V0z\" fill=\"none\"/>\n",
              "    <path d=\"M18.56 5.44l.94 2.06.94-2.06 2.06-.94-2.06-.94-.94-2.06-.94 2.06-2.06.94zm-11 1L8.5 8.5l.94-2.06 2.06-.94-2.06-.94L8.5 2.5l-.94 2.06-2.06.94zm10 10l.94 2.06.94-2.06 2.06-.94-2.06-.94-.94-2.06-.94 2.06-2.06.94z\"/><path d=\"M17.41 7.96l-1.37-1.37c-.4-.4-.92-.59-1.43-.59-.52 0-1.04.2-1.43.59L10.3 9.45l-7.72 7.72c-.78.78-.78 2.05 0 2.83L4 21.41c.39.39.9.59 1.41.59.51 0 1.02-.2 1.41-.59l7.78-7.78 2.81-2.81c.8-.78.8-2.07 0-2.86zM5.41 20L4 18.59l7.72-7.72 1.47 1.35L5.41 20z\"/>\n",
              "  </svg>\n",
              "      </button>\n",
              "      \n",
              "  <style>\n",
              "    .colab-df-container {\n",
              "      display:flex;\n",
              "      flex-wrap:wrap;\n",
              "      gap: 12px;\n",
              "    }\n",
              "\n",
              "    .colab-df-convert {\n",
              "      background-color: #E8F0FE;\n",
              "      border: none;\n",
              "      border-radius: 50%;\n",
              "      cursor: pointer;\n",
              "      display: none;\n",
              "      fill: #1967D2;\n",
              "      height: 32px;\n",
              "      padding: 0 0 0 0;\n",
              "      width: 32px;\n",
              "    }\n",
              "\n",
              "    .colab-df-convert:hover {\n",
              "      background-color: #E2EBFA;\n",
              "      box-shadow: 0px 1px 2px rgba(60, 64, 67, 0.3), 0px 1px 3px 1px rgba(60, 64, 67, 0.15);\n",
              "      fill: #174EA6;\n",
              "    }\n",
              "\n",
              "    [theme=dark] .colab-df-convert {\n",
              "      background-color: #3B4455;\n",
              "      fill: #D2E3FC;\n",
              "    }\n",
              "\n",
              "    [theme=dark] .colab-df-convert:hover {\n",
              "      background-color: #434B5C;\n",
              "      box-shadow: 0px 1px 3px 1px rgba(0, 0, 0, 0.15);\n",
              "      filter: drop-shadow(0px 1px 2px rgba(0, 0, 0, 0.3));\n",
              "      fill: #FFFFFF;\n",
              "    }\n",
              "  </style>\n",
              "\n",
              "      <script>\n",
              "        const buttonEl =\n",
              "          document.querySelector('#df-06e5cab7-7e9c-46b4-abb0-1692e39e69ea button.colab-df-convert');\n",
              "        buttonEl.style.display =\n",
              "          google.colab.kernel.accessAllowed ? 'block' : 'none';\n",
              "\n",
              "        async function convertToInteractive(key) {\n",
              "          const element = document.querySelector('#df-06e5cab7-7e9c-46b4-abb0-1692e39e69ea');\n",
              "          const dataTable =\n",
              "            await google.colab.kernel.invokeFunction('convertToInteractive',\n",
              "                                                     [key], {});\n",
              "          if (!dataTable) return;\n",
              "\n",
              "          const docLinkHtml = 'Like what you see? Visit the ' +\n",
              "            '<a target=\"_blank\" href=https://colab.research.google.com/notebooks/data_table.ipynb>data table notebook</a>'\n",
              "            + ' to learn more about interactive tables.';\n",
              "          element.innerHTML = '';\n",
              "          dataTable['output_type'] = 'display_data';\n",
              "          await google.colab.output.renderOutput(dataTable, element);\n",
              "          const docLink = document.createElement('div');\n",
              "          docLink.innerHTML = docLinkHtml;\n",
              "          element.appendChild(docLink);\n",
              "        }\n",
              "      </script>\n",
              "    </div>\n",
              "  </div>\n",
              "  "
            ]
          },
          "metadata": {},
          "execution_count": 7
        }
      ]
    },
    {
      "cell_type": "code",
      "source": [
        "today = str(date.today())\n",
        "filename = 'IHS_AIAN_Data_' + today + '.xlsx'\n",
        "writer = pd.ExcelWriter(filename, engine='xlsxwriter')"
      ],
      "metadata": {
        "id": "dmBT-kKy7YgE"
      },
      "execution_count": 8,
      "outputs": []
    },
    {
      "cell_type": "code",
      "source": [
        "active = ['Active', 'Active - Non-Reporting', 'COVID-19 Freeze'] \n",
        "Active_df = IHS_AIAN_df[IHS_AIAN_df['Status'].isin(active)]\n",
        "Active_df['Book Distribution Rate'] = Active_df['Book Distribution Rate'].astype(str) + '%'\n",
        "Active_df = Active_df.sort_values(by=['Status', 'State', 'Site Name'])\n",
        "Active_df.to_excel(writer, sheet_name=\"Active\")"
      ],
      "metadata": {
        "id": "hGiZgd2ypbZf",
        "colab": {
          "base_uri": "https://localhost:8080/"
        },
        "outputId": "ce8d731f-17ce-4e17-e39d-c257bd5c62d0"
      },
      "execution_count": 10,
      "outputs": [
        {
          "output_type": "stream",
          "name": "stderr",
          "text": [
            "/usr/local/lib/python3.7/dist-packages/ipykernel_launcher.py:3: SettingWithCopyWarning: \n",
            "A value is trying to be set on a copy of a slice from a DataFrame.\n",
            "Try using .loc[row_indexer,col_indexer] = value instead\n",
            "\n",
            "See the caveats in the documentation: https://pandas.pydata.org/pandas-docs/stable/user_guide/indexing.html#returning-a-view-versus-a-copy\n",
            "  This is separate from the ipykernel package so we can avoid doing imports until\n"
          ]
        }
      ]
    },
    {
      "cell_type": "code",
      "source": [
        "S4D_df = IHS_AIAN_df.loc[IHS_AIAN_df['Status'] == 'Slated for deactivation']\n",
        "S4D_df['Book Distribution Rate'] = S4D_df['Book Distribution Rate'].astype(str) + '%'\n",
        "S4D_df = S4D_df.sort_values(by=['Site Name'])\n",
        "S4D_df.to_excel(writer, sheet_name=\"Slated for deactivation\")"
      ],
      "metadata": {
        "colab": {
          "base_uri": "https://localhost:8080/"
        },
        "id": "CyHYpIV9O30q",
        "outputId": "c5931b08-21d9-41eb-d1e9-9fa1d811bd5a"
      },
      "execution_count": 11,
      "outputs": [
        {
          "output_type": "stream",
          "name": "stderr",
          "text": [
            "/usr/local/lib/python3.7/dist-packages/ipykernel_launcher.py:2: SettingWithCopyWarning: \n",
            "A value is trying to be set on a copy of a slice from a DataFrame.\n",
            "Try using .loc[row_indexer,col_indexer] = value instead\n",
            "\n",
            "See the caveats in the documentation: https://pandas.pydata.org/pandas-docs/stable/user_guide/indexing.html#returning-a-view-versus-a-copy\n",
            "  \n"
          ]
        }
      ]
    },
    {
      "cell_type": "code",
      "source": [
        "join_date_range_min = input(\"Type in the start of your year (MM/DD/YYYY): \")\n",
        "join_date_range_min = datetime.strptime(join_date_range_min, '%m/%d/%Y')\n",
        "join_date_range_max = input(\"Type in the end of your year (MM/DD/YYYY): \")\n",
        "join_date_range_max = datetime.strptime(join_date_range_max, '%m/%d/%Y')"
      ],
      "metadata": {
        "colab": {
          "base_uri": "https://localhost:8080/"
        },
        "id": "wtYD73_9tvD1",
        "outputId": "df83c93d-7566-4f6d-cb98-cdbde24e4690"
      },
      "execution_count": 12,
      "outputs": [
        {
          "name": "stdout",
          "output_type": "stream",
          "text": [
            "Type in the start of your year (MM/DD/YYYY): 01/01/2021\n",
            "Type in the end of your year (MM/DD/YYYY): 12/31/2021\n"
          ]
        }
      ]
    },
    {
      "cell_type": "code",
      "source": [
        "df['Join Date'] = pd.to_datetime(df['Join Date'], format='%m/%d/%Y')"
      ],
      "metadata": {
        "id": "bAupe3DrDIbD"
      },
      "execution_count": 13,
      "outputs": []
    },
    {
      "cell_type": "code",
      "source": [
        "join_date_df = df.loc[(df['Join Date'] >= join_date_range_min) & (df['Join Date'] <= join_date_range_max)]\n",
        "join_date_df['Join Date'] = join_date_df['Join Date'].dt.date\n",
        "join_date_df['Book Distribution Rate'] = join_date_df['Book Distribution Rate'].astype(str) + '%'\n",
        "join_date_df = join_date_df[['Site Type', 'Site Name', 'Status', 'City', 'State', 'Report 1:  Name', 'Report 2:  Name', 'Visits 0-5 years Annually', 'Books 0-5 Years Annually', 'Book Distribution Rate', 'Join Date']]\n",
        "join_date_df = join_date_df.sort_values(by ='Site Name')\n",
        "join_date_df.to_excel(writer, sheet_name=\"New Sites\")"
      ],
      "metadata": {
        "colab": {
          "base_uri": "https://localhost:8080/"
        },
        "id": "GRnK6uDSDiXF",
        "outputId": "79ee8d4f-2269-4fc0-dcdd-43fa6490f22d"
      },
      "execution_count": 14,
      "outputs": [
        {
          "output_type": "stream",
          "name": "stderr",
          "text": [
            "/usr/local/lib/python3.7/dist-packages/ipykernel_launcher.py:2: SettingWithCopyWarning: \n",
            "A value is trying to be set on a copy of a slice from a DataFrame.\n",
            "Try using .loc[row_indexer,col_indexer] = value instead\n",
            "\n",
            "See the caveats in the documentation: https://pandas.pydata.org/pandas-docs/stable/user_guide/indexing.html#returning-a-view-versus-a-copy\n",
            "  \n",
            "/usr/local/lib/python3.7/dist-packages/ipykernel_launcher.py:3: SettingWithCopyWarning: \n",
            "A value is trying to be set on a copy of a slice from a DataFrame.\n",
            "Try using .loc[row_indexer,col_indexer] = value instead\n",
            "\n",
            "See the caveats in the documentation: https://pandas.pydata.org/pandas-docs/stable/user_guide/indexing.html#returning-a-view-versus-a-copy\n",
            "  This is separate from the ipykernel package so we can avoid doing imports until\n"
          ]
        }
      ]
    },
    {
      "cell_type": "code",
      "source": [
        "prospective_sites = ['Approved - Needs Training', 'Approved - Waitlisted', 'Complete - Awaiting approval', 'In Progress'] \n",
        "Prospective_Sites_df = df[df['Status'].isin(prospective_sites)] \n",
        "Prospective_Sites_df = Prospective_Sites_df[['Site Type', 'Site Name', 'Status', 'City', 'State', 'Report 1:  Name', 'Report 2:  Name', 'Visits 0-5 years Annually', 'Books 0-5 Years Annually', 'Book Distribution Rate']]\n",
        "Prospective_Sites_df['Book Distribution Rate'] = Prospective_Sites_df['Book Distribution Rate'].astype(str) + '%'\n",
        "Prospective_Sites_df = Prospective_Sites_df.sort_values(by ='Site Name')\n",
        "Prospective_Sites_df.to_excel(writer, sheet_name=\"Prospective Sites\")"
      ],
      "metadata": {
        "id": "X9ih-ceeny2e"
      },
      "execution_count": 16,
      "outputs": []
    },
    {
      "cell_type": "code",
      "source": [
        "Book_Distribution_Gaps_df = IHS_AIAN_df.loc[IHS_AIAN_df['Book Distribution Rate'] < 80]\n",
        "Book_Distribution_Gaps_df['Book Distribution Rate'] = Book_Distribution_Gaps_df['Book Distribution Rate'].astype(str) + '%'\n",
        "Book_Distribution_Gaps_df = Book_Distribution_Gaps_df.sort_values(by =['State', 'Site Name'])\n",
        "Book_Distribution_Gaps_df.to_excel(writer, sheet_name=\"Sites w. Book Distribution Gaps\")"
      ],
      "metadata": {
        "colab": {
          "base_uri": "https://localhost:8080/"
        },
        "id": "SpZzsFi9miT8",
        "outputId": "7c77cf78-ec6b-4e71-bb47-53cf333557e6"
      },
      "execution_count": 17,
      "outputs": [
        {
          "output_type": "stream",
          "name": "stderr",
          "text": [
            "/usr/local/lib/python3.7/dist-packages/ipykernel_launcher.py:2: SettingWithCopyWarning: \n",
            "A value is trying to be set on a copy of a slice from a DataFrame.\n",
            "Try using .loc[row_indexer,col_indexer] = value instead\n",
            "\n",
            "See the caveats in the documentation: https://pandas.pydata.org/pandas-docs/stable/user_guide/indexing.html#returning-a-view-versus-a-copy\n",
            "  \n"
          ]
        }
      ]
    },
    {
      "cell_type": "code",
      "source": [
        "writer.save()\n",
        "files.download(filename)"
      ],
      "metadata": {
        "colab": {
          "base_uri": "https://localhost:8080/",
          "height": 17
        },
        "id": "iQAGzCiO9Gkj",
        "outputId": "ada2fc8e-5af9-49c2-efd1-695695ff3861"
      },
      "execution_count": 18,
      "outputs": [
        {
          "output_type": "display_data",
          "data": {
            "text/plain": [
              "<IPython.core.display.Javascript object>"
            ],
            "application/javascript": [
              "\n",
              "    async function download(id, filename, size) {\n",
              "      if (!google.colab.kernel.accessAllowed) {\n",
              "        return;\n",
              "      }\n",
              "      const div = document.createElement('div');\n",
              "      const label = document.createElement('label');\n",
              "      label.textContent = `Downloading \"${filename}\": `;\n",
              "      div.appendChild(label);\n",
              "      const progress = document.createElement('progress');\n",
              "      progress.max = size;\n",
              "      div.appendChild(progress);\n",
              "      document.body.appendChild(div);\n",
              "\n",
              "      const buffers = [];\n",
              "      let downloaded = 0;\n",
              "\n",
              "      const channel = await google.colab.kernel.comms.open(id);\n",
              "      // Send a message to notify the kernel that we're ready.\n",
              "      channel.send({})\n",
              "\n",
              "      for await (const message of channel.messages) {\n",
              "        // Send a message to notify the kernel that we're ready.\n",
              "        channel.send({})\n",
              "        if (message.buffers) {\n",
              "          for (const buffer of message.buffers) {\n",
              "            buffers.push(buffer);\n",
              "            downloaded += buffer.byteLength;\n",
              "            progress.value = downloaded;\n",
              "          }\n",
              "        }\n",
              "      }\n",
              "      const blob = new Blob(buffers, {type: 'application/binary'});\n",
              "      const a = document.createElement('a');\n",
              "      a.href = window.URL.createObjectURL(blob);\n",
              "      a.download = filename;\n",
              "      div.appendChild(a);\n",
              "      a.click();\n",
              "      div.remove();\n",
              "    }\n",
              "  "
            ]
          },
          "metadata": {}
        },
        {
          "output_type": "display_data",
          "data": {
            "text/plain": [
              "<IPython.core.display.Javascript object>"
            ],
            "application/javascript": [
              "download(\"download_56ad37c8-5163-4e4a-a1d9-6c3378bf1d6f\", \"IHS_AIAN_Data_2022-03-11.xlsx\", 29542)"
            ]
          },
          "metadata": {}
        }
      ]
    },
    {
      "cell_type": "code",
      "source": [
        ""
      ],
      "metadata": {
        "id": "x454ROXieTQc"
      },
      "execution_count": null,
      "outputs": []
    }
  ]
}